{
 "cells": [
  {
   "cell_type": "code",
   "execution_count": 5,
   "id": "a1c9acb2-fed1-47a4-9c6b-0feb931b1226",
   "metadata": {},
   "outputs": [],
   "source": [
    "q1 = \"Write all the conventions being followed while declaring a variable.\"\n"
   ]
  },
  {
   "cell_type": "code",
   "execution_count": 8,
   "id": "9ce2d431-75c7-408a-947d-0c1323d7c5e2",
   "metadata": {},
   "outputs": [],
   "source": [
    "a1 = \"All variable names must begin with a letter of the alphabet or an underscore(_). After the first initial letter, variable names can also contain letters and numbers. Variable names are case sensitive. No spaces or special characters are allowed.\""
   ]
  },
  {
   "cell_type": "code",
   "execution_count": 6,
   "id": "f3addf1c-53ba-4db0-a24f-4740370fbe73",
   "metadata": {},
   "outputs": [
    {
     "data": {
      "text/plain": [
       "'Write all the conventions being followed while declaring a variable.'"
      ]
     },
     "execution_count": 6,
     "metadata": {},
     "output_type": "execute_result"
    }
   ],
   "source": [
    "#so here is the answer\n",
    "q1"
   ]
  },
  {
   "cell_type": "code",
   "execution_count": 7,
   "id": "3d7ea48e-d48b-487a-88c5-85a70c6264bb",
   "metadata": {},
   "outputs": [],
   "source": [
    "a1 =\"All variable names must begin with a letter of the alphabet or an underscore(_). After the first initial letter, variable names can also contain letters and numbers. Variable names are case sensitive. No spaces or special characters are allowed.\""
   ]
  },
  {
   "cell_type": "code",
   "execution_count": 9,
   "id": "47c2da6c-bec6-4e8a-9ce8-cd3e03ebd928",
   "metadata": {},
   "outputs": [],
   "source": [
    "Q2 = \"What will happen if we declare a restricted keyword as a variable?\""
   ]
  },
  {
   "cell_type": "code",
   "execution_count": 10,
   "id": "86f3838a-e94c-41c4-bdc5-ef6cdebfff6b",
   "metadata": {},
   "outputs": [
    {
     "ename": "TypeError",
     "evalue": "type() takes 1 or 3 arguments",
     "output_type": "error",
     "traceback": [
      "\u001b[0;31m---------------------------------------------------------------------------\u001b[0m",
      "\u001b[0;31mTypeError\u001b[0m                                 Traceback (most recent call last)",
      "Cell \u001b[0;32mIn[10], line 2\u001b[0m\n\u001b[1;32m      1\u001b[0m \u001b[38;5;66;03m#lets test ourself\u001b[39;00m\n\u001b[0;32m----> 2\u001b[0m a \u001b[38;5;241m=\u001b[39m \u001b[38;5;28;43mtype\u001b[39;49m\u001b[43m(\u001b[49m\u001b[43m)\u001b[49m\n",
      "\u001b[0;31mTypeError\u001b[0m: type() takes 1 or 3 arguments"
     ]
    }
   ],
   "source": [
    "#lets test ourself\n",
    "a = type()\n",
    "\"TypeError: type() takes 1 or 3 arguments\"\n",
    "#this is what happens"
   ]
  },
  {
   "cell_type": "code",
   "execution_count": 11,
   "id": "f1173408-fa4d-4e18-a919-25a9c92b1c83",
   "metadata": {},
   "outputs": [],
   "source": [
    "Q3 = \"Can we actually declare a string as a variable name?\""
   ]
  },
  {
   "cell_type": "code",
   "execution_count": 20,
   "id": "b900bfb9-e4e6-430f-913c-e6d015e59f94",
   "metadata": {},
   "outputs": [
    {
     "ename": "SyntaxError",
     "evalue": "cannot assign to literal here. Maybe you meant '==' instead of '='? (2064381383.py, line 1)",
     "output_type": "error",
     "traceback": [
      "\u001b[0;36m  Cell \u001b[0;32mIn[20], line 1\u001b[0;36m\u001b[0m\n\u001b[0;31m    \"heelo\" = 5\u001b[0m\n\u001b[0m    ^\u001b[0m\n\u001b[0;31mSyntaxError\u001b[0m\u001b[0;31m:\u001b[0m cannot assign to literal here. Maybe you meant '==' instead of '='?\n"
     ]
    }
   ],
   "source": [
    "\"heelo\" = 5\n",
    "#it does not work,we can't"
   ]
  },
  {
   "cell_type": "code",
   "execution_count": 13,
   "id": "8f3b37a2-0d59-4fce-b535-e07fdc4a7f45",
   "metadata": {},
   "outputs": [],
   "source": [
    "Q4 = \" Is it possible for us to declare “_” as a variable? If so, then write an example of it.\""
   ]
  },
  {
   "cell_type": "code",
   "execution_count": 23,
   "id": "67eddc38-3149-4c26-b025-a6e6630d9304",
   "metadata": {},
   "outputs": [
    {
     "ename": "SyntaxError",
     "evalue": "cannot assign to literal here. Maybe you meant '==' instead of '='? (584927427.py, line 3)",
     "output_type": "error",
     "traceback": [
      "\u001b[0;36m  Cell \u001b[0;32mIn[23], line 3\u001b[0;36m\u001b[0m\n\u001b[0;31m    \"_\" = 2\u001b[0m\n\u001b[0m    ^\u001b[0m\n\u001b[0;31mSyntaxError\u001b[0m\u001b[0;31m:\u001b[0m cannot assign to literal here. Maybe you meant '==' instead of '='?\n"
     ]
    }
   ],
   "source": [
    "#lets test \n",
    "_ = 2\n",
    "\"_\" = 2"
   ]
  },
  {
   "cell_type": "code",
   "execution_count": 24,
   "id": "4472af25-549d-444b-b490-b3ff3d0b5c66",
   "metadata": {},
   "outputs": [
    {
     "data": {
      "text/plain": [
       "2"
      ]
     },
     "execution_count": 24,
     "metadata": {},
     "output_type": "execute_result"
    }
   ],
   "source": [
    "_\n",
    "#we can assign an underscore to a variable but not \"_\" as it becomes string it doesn't work"
   ]
  },
  {
   "cell_type": "code",
   "execution_count": 16,
   "id": "028672b4-804b-4c6d-8f3f-63e911788e06",
   "metadata": {},
   "outputs": [],
   "source": [
    "#this shows that  it does not work  "
   ]
  },
  {
   "cell_type": "code",
   "execution_count": 18,
   "id": "e0a1cbcc-7f62-42c1-bb44-91e4aef24092",
   "metadata": {},
   "outputs": [],
   "source": [
    "Q5 = \". Using an example, explain how the variables in python are dynamic in nature.\""
   ]
  },
  {
   "cell_type": "code",
   "execution_count": 25,
   "id": "74567a4a-d38b-4be8-864c-b41517a41ed2",
   "metadata": {},
   "outputs": [
    {
     "data": {
      "text/plain": [
       "int"
      ]
     },
     "execution_count": 25,
     "metadata": {},
     "output_type": "execute_result"
    }
   ],
   "source": [
    "# This will store 6 in the memory and binds thename x to it. After it runs, type of x will be int.\n",
    "x = 6   \n",
    "type(x)"
   ]
  },
  {
   "cell_type": "code",
   "execution_count": null,
   "id": "dce33391-0222-470d-bce9-3ac6f9eaeb06",
   "metadata": {},
   "outputs": [],
   "source": [
    "#thi proves that "
   ]
  }
 ],
 "metadata": {
  "kernelspec": {
   "display_name": "Python 3 (ipykernel)",
   "language": "python",
   "name": "python3"
  },
  "language_info": {
   "codemirror_mode": {
    "name": "ipython",
    "version": 3
   },
   "file_extension": ".py",
   "mimetype": "text/x-python",
   "name": "python",
   "nbconvert_exporter": "python",
   "pygments_lexer": "ipython3",
   "version": "3.10.8"
  }
 },
 "nbformat": 4,
 "nbformat_minor": 5
}
